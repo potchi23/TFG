{
 "cells": [
  {
   "cell_type": "markdown",
   "id": "980ceda4",
   "metadata": {},
   "source": [
    "# Entrenamiento con casi nada de limpieza"
   ]
  },
  {
   "cell_type": "code",
   "execution_count": 1,
   "id": "82e0594b",
   "metadata": {},
   "outputs": [],
   "source": [
    "import pandas as pd\n",
    "from sklearn.preprocessing import LabelEncoder\n",
    "from sklearn.ensemble import RandomForestClassifier\n",
    "from sklearn.model_selection import train_test_split\n",
    "from sklearn.metrics import confusion_matrix\n",
    "from sklearn.metrics import classification_report\n",
    "import matplotlib.pyplot as plt\n",
    "from sklearn.metrics import plot_confusion_matrix\n",
    "from sklearn.metrics import roc_curve\n",
    "from sklearn.metrics import roc_auc_score\n",
    "from sklearn.neighbors import KNeighborsClassifier\n",
    "from sklearn.preprocessing import MinMaxScaler\n",
    "from sklearn.preprocessing import StandardScaler\n",
    "from sklearn.pipeline import Pipeline\n",
    "from sklearn.linear_model import LogisticRegression\n",
    "from sklearn.ensemble import VotingClassifier"
   ]
  },
  {
   "cell_type": "code",
   "execution_count": 2,
   "id": "d6982fac",
   "metadata": {},
   "outputs": [
    {
     "data": {
      "text/plain": [
       "(269, 39)"
      ]
     },
     "execution_count": 2,
     "metadata": {},
     "output_type": "execute_result"
    }
   ],
   "source": [
    "df = pd.read_csv('estadistica-final.csv', sep=';', encoding='cp1252',decimal=\",\")\n",
    "\n",
    "# Eliminamos datos que no contribuyen nada en el funcionamiento del algoritmo\n",
    "df = df.drop('FECHACIR', axis=1)\n",
    "df = df.drop('FECHAFIN', axis=1)\n",
    "df = df.drop('ETNIA', axis=1)\n",
    "df = df.drop('HISTO2', axis=1)\n",
    "df = df.drop('Unnamed: 52', axis=1)\n",
    "df = df.drop('Unnamed: 53', axis=1)\n",
    "df = df.drop('NHIS', axis=1)\n",
    "df = df.drop(df.iloc[:,-14:], axis=1)\n",
    "\n",
    "df.shape"
   ]
  },
  {
   "cell_type": "code",
   "execution_count": 3,
   "id": "5037fbf2",
   "metadata": {},
   "outputs": [],
   "source": [
    "# Variables categoricas a valores numericos\n",
    "def df_categorical_to_encoded():\n",
    "    for column in df:\n",
    "        if df[column].dtypes == object:\n",
    "            label_encoder = LabelEncoder()\n",
    "            categorical_Encoded = label_encoder.fit_transform(df[column])\n",
    "            df[column] = categorical_Encoded\n",
    "\n",
    "df_categorical_to_encoded()"
   ]
  },
  {
   "cell_type": "code",
   "execution_count": 4,
   "id": "c8087949",
   "metadata": {},
   "outputs": [],
   "source": [
    "# Si hay algun campo sin datos, lo rellenamos con la mediana de la columna\n",
    "def na_to_median():\n",
    "    for column in df:\n",
    "        if(df[column].isnull().values.any()):\n",
    "            median = df[column].median()\n",
    "            df[column].fillna(median, inplace=True)\n",
    "na_to_median()"
   ]
  },
  {
   "cell_type": "code",
   "execution_count": null,
   "id": "11b17895",
   "metadata": {},
   "outputs": [],
   "source": [
    "df.info()"
   ]
  },
  {
   "cell_type": "code",
   "execution_count": null,
   "id": "7dd6bd1e",
   "metadata": {},
   "outputs": [],
   "source": [
    "df.hist(bins=df.shape[1], figsize=(41,20))"
   ]
  },
  {
   "cell_type": "code",
   "execution_count": null,
   "id": "0a81ed85",
   "metadata": {},
   "outputs": [],
   "source": [
    "df['HISTO'].hist()"
   ]
  },
  {
   "cell_type": "code",
   "execution_count": null,
   "id": "c6c13767",
   "metadata": {
    "scrolled": true
   },
   "outputs": [],
   "source": [
    "# Variable a predecir\n",
    "df['RBQ'].hist()"
   ]
  },
  {
   "cell_type": "markdown",
   "id": "75d5f19c",
   "metadata": {},
   "source": [
    "### Random Forest Pipeline"
   ]
  },
  {
   "cell_type": "code",
   "execution_count": 5,
   "id": "e1c577e6",
   "metadata": {},
   "outputs": [
    {
     "name": "stdout",
     "output_type": "stream",
     "text": [
      "              precision    recall  f1-score   support\n",
      "\n",
      "           1       0.57      0.27      0.36        15\n",
      "           2       0.81      0.93      0.87        61\n",
      "           3       0.75      0.60      0.67         5\n",
      "\n",
      "    accuracy                           0.79        81\n",
      "   macro avg       0.71      0.60      0.63        81\n",
      "weighted avg       0.77      0.79      0.76        81\n",
      "\n",
      "Score: 0.7901234567901234\n"
     ]
    },
    {
     "data": {
      "image/png": "[encoded data removed]",
      "text/plain": [
       "<Figure size 432x288 with 2 Axes>"
      ]
     },
     "metadata": {
      "needs_background": "light"
     },
     "output_type": "display_data"
    }
   ],
   "source": [
    "y = df['RBQ'] \n",
    "X = df.drop('RBQ', axis=1)\n",
    "X_train, X_test, y_train, y_test = train_test_split(X, y, train_size=0.7)\n",
    "\n",
    "pipe_rfc = Pipeline([\n",
    "                    ('scl', StandardScaler()),\n",
    "                    ('norm', MinMaxScaler()),\n",
    "                    ('rfc', RandomForestClassifier(n_estimators=100, bootstrap=False, max_features='sqrt'))    \n",
    "                    ])\n",
    "\n",
    "pipe_rfc.fit(X_train, y_train)\n",
    "\n",
    "plot_confusion_matrix(pipe_rfc, X_test, y_test)\n",
    "print(classification_report(y_test, pipe_rfc.predict(X_test)))\n",
    "print('Score: ' + str(pipe_rfc.score(X_test, y_test)))\n"
   ]
  },
  {
   "cell_type": "markdown",
   "id": "823fc0da",
   "metadata": {},
   "source": [
    "### KNN Pipeline"
   ]
  },
  {
   "cell_type": "code",
   "execution_count": 7,
   "id": "08e035e6",
   "metadata": {},
   "outputs": [
    {
     "name": "stdout",
     "output_type": "stream",
     "text": [
      "              precision    recall  f1-score   support\n",
      "\n",
      "           1       0.40      0.18      0.25        11\n",
      "           2       0.84      0.97      0.90        64\n",
      "           3       1.00      0.33      0.50         6\n",
      "\n",
      "    accuracy                           0.81        81\n",
      "   macro avg       0.75      0.49      0.55        81\n",
      "weighted avg       0.79      0.81      0.78        81\n",
      "\n",
      "Score: 0.8148148148148148\n"
     ]
    },
    {
     "data": {
      "image/png": "[encoded data removed]",
      "text/plain": [
       "<Figure size 432x288 with 2 Axes>"
      ]
     },
     "metadata": {
      "needs_background": "light"
     },
     "output_type": "display_data"
    }
   ],
   "source": [
    "y = df['RBQ'] \n",
    "X = df.drop('RBQ', axis=1)\n",
    "X_train, X_test, y_train, y_test = train_test_split(X, y, train_size=0.7)\n",
    "\n",
    "pipe_knn = Pipeline([\n",
    "                     ('scl', StandardScaler()),\n",
    "                     ('norm', MinMaxScaler()),\n",
    "                     ('knn', KNeighborsClassifier(8))    \n",
    "                    ])\n",
    "\n",
    "pipe_knn.fit(X_train, y_train)\n",
    "\n",
    "plot_confusion_matrix(pipe_knn, X_test, y_test)\n",
    "print(classification_report(y_test, pipe_knn.predict(X_test)))\n",
    "print('Score: ' + str(pipe_knn.score(X_test, y_test)))"
   ]
  },
  {
   "cell_type": "markdown",
   "id": "03293a6b",
   "metadata": {},
   "source": [
    "### Logistic Regression Pipeline"
   ]
  },
  {
   "cell_type": "code",
   "execution_count": 10,
   "id": "c7a511e6",
   "metadata": {},
   "outputs": [
    {
     "name": "stdout",
     "output_type": "stream",
     "text": [
      "              precision    recall  f1-score   support\n",
      "\n",
      "           1       0.57      0.53      0.55        15\n",
      "           2       0.86      0.93      0.89        59\n",
      "           3       0.67      0.29      0.40         7\n",
      "\n",
      "    accuracy                           0.80        81\n",
      "   macro avg       0.70      0.58      0.62        81\n",
      "weighted avg       0.79      0.80      0.79        81\n",
      "\n",
      "Score: 0.8024691358024691\n"
     ]
    },
    {
     "data": {
      "image/png": "[encoded data removed]",
      "text/plain": [
       "<Figure size 432x288 with 2 Axes>"
      ]
     },
     "metadata": {
      "needs_background": "light"
     },
     "output_type": "display_data"
    }
   ],
   "source": [
    "y = df['RBQ'] \n",
    "X = df.drop('RBQ', axis=1)\n",
    "X_train, X_test, y_train, y_test = train_test_split(X, y, train_size=0.7)\n",
    "\n",
    "pipe_clr = Pipeline([\n",
    "                     ('scl', StandardScaler()),\n",
    "                     ('norm', MinMaxScaler()),\n",
    "                     ('clr', LogisticRegression(C=1.0, penalty='l2', random_state=1))    \n",
    "                    ])\n",
    "\n",
    "pipe_clr.fit(X_train, y_train)\n",
    "\n",
    "plot_confusion_matrix(pipe_clr, X_test, y_test)\n",
    "print(classification_report(y_test, pipe_clr.predict(X_test)))\n",
    "print('Score: ' + str(pipe_clr.score(X_test, y_test)))"
   ]
  },
  {
   "cell_type": "markdown",
   "id": "e5d9d1b9",
   "metadata": {},
   "source": [
    "### Pipe Ensemble Learning"
   ]
  },
  {
   "cell_type": "code",
   "execution_count": 43,
   "id": "f43ee3b6",
   "metadata": {},
   "outputs": [
    {
     "name": "stdout",
     "output_type": "stream",
     "text": [
      "              precision    recall  f1-score   support\n",
      "\n",
      "           1       0.64      0.41      0.50        17\n",
      "           2       0.81      0.95      0.87        58\n",
      "           3       1.00      0.33      0.50         6\n",
      "\n",
      "    accuracy                           0.79        81\n",
      "   macro avg       0.82      0.56      0.62        81\n",
      "weighted avg       0.79      0.79      0.77        81\n",
      "\n",
      "Score: 0.7901234567901234\n"
     ]
    },
    {
     "data": {
      "image/png": "[encoded data removed]",
      "text/plain": [
       "<Figure size 432x288 with 2 Axes>"
      ]
     },
     "metadata": {
      "needs_background": "light"
     },
     "output_type": "display_data"
    }
   ],
   "source": [
    "y = df['RBQ'] \n",
    "X = df.drop('RBQ', axis=1)\n",
    "X_train, X_test, y_train, y_test = train_test_split(X, y, train_size=0.7)\n",
    "\n",
    "pipe_rfc = Pipeline([\n",
    "                     ('scl', StandardScaler()),\n",
    "                     ('norm', MinMaxScaler()),\n",
    "                     ('rfc', RandomForestClassifier(n_estimators=100, bootstrap=False, max_features='sqrt'))    \n",
    "                    ])\n",
    "\n",
    "pipe_knn = Pipeline([\n",
    "                     ('scl', StandardScaler()),\n",
    "                     ('norm', MinMaxScaler()),\n",
    "                     ('knn', KNeighborsClassifier(8))    \n",
    "                    ])\n",
    "\n",
    "pipe_clr = Pipeline([\n",
    "                     ('scl', StandardScaler()),\n",
    "                     ('norm', MinMaxScaler()),\n",
    "                     ('clr', LogisticRegression(C=1.0, penalty='l2', random_state=1))    \n",
    "                    ])\n",
    "\n",
    "voting_clf = VotingClassifier(\n",
    "                              estimators=[('prfc', pipe_rfc),('pknn', pipe_knn), ('pclr', pipe_clr)],\n",
    "                              voting='soft'\n",
    "                            )\n",
    "\n",
    "voting_clf.fit(X_train, y_train)\n",
    "\n",
    "plot_confusion_matrix(voting_clf, X_test, y_test)\n",
    "print(classification_report(y_test, voting_clf.predict(X_test)))\n",
    "print('Score: ' + str(voting_clf.score(X_test, y_test)))"
   ]
  },
  {
   "cell_type": "code",
   "execution_count": null,
   "id": "68d8d193",
   "metadata": {},
   "outputs": [],
   "source": [
    "\n",
    "\n",
    "# fit scaler on training data\n",
    "normalized = MinMaxScaler().fit_transform(X_train)\n",
    "\n",
    "columns = [column for column in list(df.columns) if column in list(X_train.columns)]\n",
    "\n",
    "norm_df = pd.DataFrame(normalized, columns = columns)\n",
    "norm_df.hist(bins=df.shape[1], figsize=(41,20))"
   ]
  },
  {
   "cell_type": "code",
   "execution_count": null,
   "id": "7126fd08",
   "metadata": {},
   "outputs": [],
   "source": [
    "model_test = RandomForestClassifier(n_estimators=100, bootstrap=False, verbose=2, max_features='sqrt')\n",
    "\n",
    "model_test.fit(norm_df, y_train)\n",
    "\n",
    "plot_confusion_matrix(model_test, X_train, y_train)\n",
    "print(classification_report(y_train, model_test.predict(X_train)))"
   ]
  },
  {
   "cell_type": "markdown",
   "id": "636d28cd",
   "metadata": {},
   "source": [
    "## Random Forest"
   ]
  },
  {
   "cell_type": "code",
   "execution_count": null,
   "id": "b96e1192",
   "metadata": {},
   "outputs": [],
   "source": [
    "# Entrenamiento\n",
    "\n",
    "y = df['RBQ'] \n",
    "X = df.drop('RBQ', axis=1)\n",
    "\n",
    "X_train, X_test, y_train, y_test = train_test_split(X, y, train_size=0.7, random_state=0)\n",
    "\n",
    "model = RandomForestClassifier(n_estimators=100, bootstrap=False, verbose=2, max_features='sqrt')\n",
    "\n",
    "model.fit(X_train, y_train)"
   ]
  },
  {
   "cell_type": "code",
   "execution_count": null,
   "id": "22ca4cde",
   "metadata": {},
   "outputs": [],
   "source": [
    "# Training Confusion Matrix\n",
    "\n",
    "plot_confusion_matrix(model, X_train, y_train)\n",
    "print(classification_report(y_train, model.predict(X_train)))"
   ]
  },
  {
   "cell_type": "code",
   "execution_count": null,
   "id": "75505fea",
   "metadata": {
    "scrolled": true
   },
   "outputs": [],
   "source": [
    "# Test Confusion Matrix\n",
    "\n",
    "plot_confusion_matrix(model, X_test, y_test)\n",
    "print(classification_report(y_test, model.predict(X_test)))"
   ]
  },
  {
   "cell_type": "markdown",
   "id": "6ce29e3b",
   "metadata": {},
   "source": [
    "## K-NN"
   ]
  },
  {
   "cell_type": "code",
   "execution_count": null,
   "id": "fb5aa112",
   "metadata": {},
   "outputs": [],
   "source": [
    "#K-NN\n",
    "\n",
    "# Miramos que rango k nos ofrece una mayor precisión\n",
    "\n",
    "k_range = range(1, 20)\n",
    "scores = []\n",
    "for k in k_range:\n",
    "    knn = KNeighborsClassifier(n_neighbors = k)\n",
    "    \"\"\"\"\n",
    "    # fit scaler on training data\n",
    "    norm = MinMaxScaler().fit(X_train)\n",
    "\n",
    "    # transform training data\n",
    "    X_train_norm = norm.transform(X_train)\n",
    "\n",
    "    # transform testing dataabs\n",
    "    X_test_norm = norm.transform(X_test)\n",
    "    \"\"\"\n",
    "    knn.fit(X_train, y_train)\n",
    "    scores.append(knn.score(X_test, y_test))\n",
    "    \n",
    "    \n",
    "plt.figure()\n",
    "plt.xlabel('k')\n",
    "plt.ylabel('accuracy')\n",
    "plt.scatter(k_range, scores)\n",
    "plt.xticks(range(0,20))"
   ]
  },
  {
   "cell_type": "code",
   "execution_count": null,
   "id": "fe3c7281",
   "metadata": {},
   "outputs": [],
   "source": [
    "n_neighbors = 7\n",
    "knn = KNeighborsClassifier(n_neighbors)\n",
    "\n",
    "# fit scaler on training data\n",
    "norm = MinMaxScaler().fit(X_train)\n",
    "\n",
    "\"\"\"\n",
    "# transform training data\n",
    "X_train_norm = norm.transform(X_train)\n",
    "\n",
    "# transform testing dataabs\n",
    "X_test_norm = norm.transform(X_test)\n",
    "\"\"\"\n",
    "\n",
    "knn.fit(X_train, y_train)\n",
    "print('Accuracy of K-NN classifier on training set: {:.2f}'.format(knn.score(X_train, y_train)))\n",
    "print('Accuracy of K-NN classifier on test set: {:.2f}'.format(knn.score(X_test, y_test)))"
   ]
  },
  {
   "cell_type": "code",
   "execution_count": null,
   "id": "39f24118",
   "metadata": {},
   "outputs": [],
   "source": [
    "plot_confusion_matrix(knn, X_train, y_train)\n",
    "print(classification_report(y_train, knn.predict(X_train)))"
   ]
  }
 ],
 "metadata": {
  "kernelspec": {
   "display_name": "Python 3 (ipykernel)",
   "language": "python",
   "name": "python3"
  },
  "language_info": {
   "codemirror_mode": {
    "name": "ipython",
    "version": 3
   },
   "file_extension": ".py",
   "mimetype": "text/x-python",
   "name": "python",
   "nbconvert_exporter": "python",
   "pygments_lexer": "ipython3",
   "version": "3.9.7"
  }
 },
 "nbformat": 4,
 "nbformat_minor": 5
}

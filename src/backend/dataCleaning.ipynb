{
 "cells": [
  {
   "cell_type": "markdown",
   "id": "fd1a28d4",
   "metadata": {},
   "source": [
    "# LIMPIEZA Y TRATAMIENTO DE LOS DATOS"
   ]
  },
  {
   "cell_type": "markdown",
   "id": "9f874a96",
   "metadata": {},
   "source": [
    "### 1. Importación de librerías"
   ]
  },
  {
   "cell_type": "code",
   "execution_count": 1,
   "id": "6862e051",
   "metadata": {},
   "outputs": [],
   "source": [
    "# Librerias\n",
    "import pandas as pd\n",
    "import numpy as np\n",
    "import sqlalchemy as sqla\n",
    "import pandas as pd\n",
    "from sklearn.preprocessing import LabelEncoder\n",
    "from sklearn.ensemble import RandomForestClassifier\n",
    "from sklearn.model_selection import train_test_split\n",
    "from sklearn.metrics import confusion_matrix\n",
    "from sklearn.metrics import classification_report\n",
    "import matplotlib.pyplot as plt\n",
    "from sklearn.metrics import plot_confusion_matrix\n",
    "from sklearn.metrics import roc_curve\n",
    "from sklearn.metrics import roc_auc_score\n",
    "from sklearn.neighbors import KNeighborsClassifier\n",
    "from sklearn.preprocessing import MinMaxScaler\n",
    "from sklearn.preprocessing import StandardScaler\n",
    "from sklearn.pipeline import Pipeline\n",
    "from sklearn.linear_model import LogisticRegression\n",
    "from sklearn.ensemble import VotingClassifier"
   ]
  },
  {
   "cell_type": "markdown",
   "id": "aff3f814",
   "metadata": {},
   "source": [
    "### 2. Cargar los datos"
   ]
  },
  {
   "cell_type": "code",
   "execution_count": 2,
   "id": "bdb9d841",
   "metadata": {},
   "outputs": [
    {
     "name": "stdout",
     "output_type": "stream",
     "text": [
      "       N   FECHACIR  EDAD  ETNIA  OBESO  HTA  DM  TABACO  HEREDA  TACTOR  ...  \\\n",
      "0      1 2009-09-07    65      1      3    2   2       1       2       1  ...   \n",
      "1      2 2011-05-18    74      1      2    2   2       2       2       1  ...   \n",
      "2      3 2009-04-01    70      1      2    1   2       1       2       2  ...   \n",
      "3      4 2014-09-09    67      1      2    1   2       1       2       1  ...   \n",
      "4      5 2011-11-21    67      1      1    2   1       1       2       1  ...   \n",
      "..   ...        ...   ...    ...    ...  ...  ..     ...     ...     ...  ...   \n",
      "199  200 2015-03-17    56      1      3    2   2       2       2       1  ...   \n",
      "200  201 2014-09-15    68      1      2    1   2       1       2       2  ...   \n",
      "201  202 2013-04-02    64      1      3    1   2       2       2       2  ...   \n",
      "202  203 2009-04-23    59      1      3    1   2       2       2       1  ...   \n",
      "203  204 2010-05-24    64      1      3    2   2       1       2       2  ...   \n",
      "\n",
      "     KI-67  SPINK1  C-MYC         NOTAS   IMC  ASA  GR  PNV  TH   PGG  \n",
      "0      0.0     0.0    1.0   RTP Marañon  31.6  NaN   2  NaN   5  0.00  \n",
      "1      0.0     0.0    1.0      HUIL BHC  27.4  2.0   2  NaN   7  0.00  \n",
      "2      1.0     0.0    1.0   RTP Marañon  30.0  2.0   2  NaN   6  0.00  \n",
      "3      1.0     0.0    1.0   RTP Marañon  28.7  2.0   1  NaN   5  0.00  \n",
      "4      1.0     0.0    1.0          HUIL  24.3  2.0   2  NaN   4  0.00  \n",
      "..     ...     ...    ...           ...   ...  ...  ..  ...  ..   ...  \n",
      "199    NaN     NaN    NaN          None  35.0  2.0   2  NaN   5  0.00  \n",
      "200    1.0     1.0    1.0          BHC   29.4  2.0   2  NaN   8  0.25  \n",
      "201    0.0     1.0    0.0           RTP  36.6  3.0   2  NaN   5  0.00  \n",
      "202    0.0     0.0    1.0           RTP  30.1  2.0   0  2.0   6  0.00  \n",
      "203    1.0     0.0    1.0  perdida, MTX   NaN  1.0   0  NaN  11  0.00  \n",
      "\n",
      "[204 rows x 65 columns]\n"
     ]
    }
   ],
   "source": [
    "# df = pd.read_excel(r'the_only_excel.xlsx')\n",
    "engine = sqla.create_engine('mysql://root:@localhost/tfg_bd', echo = False)\n",
    "query = \"SELECT * FROM patients\"\n",
    "df = pd.read_sql(query, engine)        \n",
    "print(df)"
   ]
  },
  {
   "cell_type": "code",
   "execution_count": 3,
   "id": "08d79f08",
   "metadata": {},
   "outputs": [
    {
     "data": {
      "text/plain": [
       "Index(['N', 'FECHACIR', 'EDAD', 'ETNIA', 'OBESO', 'HTA', 'DM', 'TABACO',\n",
       "       'HEREDA', 'TACTOR', 'PSAPRE', 'PSALT', 'TDUPPRE', 'ECOTR', 'NBIOPSIA',\n",
       "       'HISTO', 'GLEASON1', 'NCILPOS', 'BILAT', 'PORCENT', 'IPERIN', 'ILINF',\n",
       "       'IVASCU', 'TNM1', 'HISTO2', 'GLEASON2', 'BILAT2', 'LOCALIZ', 'MULTIFOC',\n",
       "       'VOLUMEN', 'EXTRACAP', 'VVSS', 'IPERIN2', 'ILINF2', 'IVASCU2', 'PINAG',\n",
       "       'MARGEN', 'TNM2', 'PSAPOS', 'RTPADYU', 'RTPMES', 'RBQ', 'TRBQ', 'T1MTX',\n",
       "       'FECHAFIN', 'T.SEG', 'FALLEC', 'TSUPERV', 'TSEGUI', 'PSAFIN', 'CAPRA-S',\n",
       "       'RA-NUCLEAR', 'RA-ESTROMA', 'PTEN', 'ERG', 'KI-67', 'SPINK1', 'C-MYC',\n",
       "       'NOTAS', 'IMC', 'ASA', 'GR', 'PNV', 'TH', 'PGG'],\n",
       "      dtype='object')"
      ]
     },
     "execution_count": 3,
     "metadata": {},
     "output_type": "execute_result"
    }
   ],
   "source": [
    "df.columns"
   ]
  },
  {
   "cell_type": "code",
   "execution_count": 4,
   "id": "609d0534",
   "metadata": {},
   "outputs": [
    {
     "data": {
      "text/html": [
       "<div>\n",
       "<style scoped>\n",
       "    .dataframe tbody tr th:only-of-type {\n",
       "        vertical-align: middle;\n",
       "    }\n",
       "\n",
       "    .dataframe tbody tr th {\n",
       "        vertical-align: top;\n",
       "    }\n",
       "\n",
       "    .dataframe thead th {\n",
       "        text-align: right;\n",
       "    }\n",
       "</style>\n",
       "<table border=\"1\" class=\"dataframe\">\n",
       "  <thead>\n",
       "    <tr style=\"text-align: right;\">\n",
       "      <th></th>\n",
       "      <th>EDAD</th>\n",
       "      <th>ETNIA</th>\n",
       "      <th>OBESO</th>\n",
       "      <th>HTA</th>\n",
       "      <th>DM</th>\n",
       "      <th>TABACO</th>\n",
       "      <th>HEREDA</th>\n",
       "      <th>TACTOR</th>\n",
       "      <th>PSAPRE</th>\n",
       "      <th>PSALT</th>\n",
       "      <th>...</th>\n",
       "      <th>ERG</th>\n",
       "      <th>KI-67</th>\n",
       "      <th>SPINK1</th>\n",
       "      <th>C-MYC</th>\n",
       "      <th>IMC</th>\n",
       "      <th>ASA</th>\n",
       "      <th>GR</th>\n",
       "      <th>PNV</th>\n",
       "      <th>TH</th>\n",
       "      <th>PGG</th>\n",
       "    </tr>\n",
       "  </thead>\n",
       "  <tbody>\n",
       "    <tr>\n",
       "      <th>0</th>\n",
       "      <td>65</td>\n",
       "      <td>1</td>\n",
       "      <td>3</td>\n",
       "      <td>2</td>\n",
       "      <td>2</td>\n",
       "      <td>1</td>\n",
       "      <td>2</td>\n",
       "      <td>1</td>\n",
       "      <td>5.46</td>\n",
       "      <td>0.85</td>\n",
       "      <td>...</td>\n",
       "      <td>0.0</td>\n",
       "      <td>0.0</td>\n",
       "      <td>0.0</td>\n",
       "      <td>1.0</td>\n",
       "      <td>31.6</td>\n",
       "      <td>NaN</td>\n",
       "      <td>2</td>\n",
       "      <td>NaN</td>\n",
       "      <td>5</td>\n",
       "      <td>0.0</td>\n",
       "    </tr>\n",
       "    <tr>\n",
       "      <th>1</th>\n",
       "      <td>74</td>\n",
       "      <td>1</td>\n",
       "      <td>2</td>\n",
       "      <td>2</td>\n",
       "      <td>2</td>\n",
       "      <td>2</td>\n",
       "      <td>2</td>\n",
       "      <td>1</td>\n",
       "      <td>13.34</td>\n",
       "      <td>NaN</td>\n",
       "      <td>...</td>\n",
       "      <td>0.0</td>\n",
       "      <td>0.0</td>\n",
       "      <td>0.0</td>\n",
       "      <td>1.0</td>\n",
       "      <td>27.4</td>\n",
       "      <td>2.0</td>\n",
       "      <td>2</td>\n",
       "      <td>NaN</td>\n",
       "      <td>7</td>\n",
       "      <td>0.0</td>\n",
       "    </tr>\n",
       "    <tr>\n",
       "      <th>2</th>\n",
       "      <td>70</td>\n",
       "      <td>1</td>\n",
       "      <td>2</td>\n",
       "      <td>1</td>\n",
       "      <td>2</td>\n",
       "      <td>1</td>\n",
       "      <td>2</td>\n",
       "      <td>2</td>\n",
       "      <td>6.47</td>\n",
       "      <td>0.10</td>\n",
       "      <td>...</td>\n",
       "      <td>1.0</td>\n",
       "      <td>1.0</td>\n",
       "      <td>0.0</td>\n",
       "      <td>1.0</td>\n",
       "      <td>30.0</td>\n",
       "      <td>2.0</td>\n",
       "      <td>2</td>\n",
       "      <td>NaN</td>\n",
       "      <td>6</td>\n",
       "      <td>0.0</td>\n",
       "    </tr>\n",
       "    <tr>\n",
       "      <th>3</th>\n",
       "      <td>67</td>\n",
       "      <td>1</td>\n",
       "      <td>2</td>\n",
       "      <td>1</td>\n",
       "      <td>2</td>\n",
       "      <td>1</td>\n",
       "      <td>2</td>\n",
       "      <td>1</td>\n",
       "      <td>8.99</td>\n",
       "      <td>0.19</td>\n",
       "      <td>...</td>\n",
       "      <td>0.0</td>\n",
       "      <td>1.0</td>\n",
       "      <td>0.0</td>\n",
       "      <td>1.0</td>\n",
       "      <td>28.7</td>\n",
       "      <td>2.0</td>\n",
       "      <td>1</td>\n",
       "      <td>NaN</td>\n",
       "      <td>5</td>\n",
       "      <td>0.0</td>\n",
       "    </tr>\n",
       "    <tr>\n",
       "      <th>4</th>\n",
       "      <td>67</td>\n",
       "      <td>1</td>\n",
       "      <td>1</td>\n",
       "      <td>2</td>\n",
       "      <td>1</td>\n",
       "      <td>1</td>\n",
       "      <td>2</td>\n",
       "      <td>1</td>\n",
       "      <td>7.96</td>\n",
       "      <td>0.21</td>\n",
       "      <td>...</td>\n",
       "      <td>1.0</td>\n",
       "      <td>1.0</td>\n",
       "      <td>0.0</td>\n",
       "      <td>1.0</td>\n",
       "      <td>24.3</td>\n",
       "      <td>2.0</td>\n",
       "      <td>2</td>\n",
       "      <td>NaN</td>\n",
       "      <td>4</td>\n",
       "      <td>0.0</td>\n",
       "    </tr>\n",
       "  </tbody>\n",
       "</table>\n",
       "<p>5 rows × 61 columns</p>\n",
       "</div>"
      ],
      "text/plain": [
       "   EDAD  ETNIA  OBESO  HTA  DM  TABACO  HEREDA  TACTOR  PSAPRE  PSALT  ...  \\\n",
       "0    65      1      3    2   2       1       2       1    5.46   0.85  ...   \n",
       "1    74      1      2    2   2       2       2       1   13.34    NaN  ...   \n",
       "2    70      1      2    1   2       1       2       2    6.47   0.10  ...   \n",
       "3    67      1      2    1   2       1       2       1    8.99   0.19  ...   \n",
       "4    67      1      1    2   1       1       2       1    7.96   0.21  ...   \n",
       "\n",
       "   ERG  KI-67  SPINK1  C-MYC   IMC  ASA  GR  PNV  TH  PGG  \n",
       "0  0.0    0.0     0.0    1.0  31.6  NaN   2  NaN   5  0.0  \n",
       "1  0.0    0.0     0.0    1.0  27.4  2.0   2  NaN   7  0.0  \n",
       "2  1.0    1.0     0.0    1.0  30.0  2.0   2  NaN   6  0.0  \n",
       "3  0.0    1.0     0.0    1.0  28.7  2.0   1  NaN   5  0.0  \n",
       "4  1.0    1.0     0.0    1.0  24.3  2.0   2  NaN   4  0.0  \n",
       "\n",
       "[5 rows x 61 columns]"
      ]
     },
     "execution_count": 4,
     "metadata": {},
     "output_type": "execute_result"
    }
   ],
   "source": [
    "df = df.drop(['N', 'NOTAS', 'FECHACIR', 'FECHAFIN'], axis=1)\n",
    "df.head()"
   ]
  },
  {
   "cell_type": "markdown",
   "id": "8a9dc046",
   "metadata": {},
   "source": [
    "### 3. Análisis del conjunto de datos"
   ]
  },
  {
   "cell_type": "code",
   "execution_count": 5,
   "id": "2cf80af4",
   "metadata": {},
   "outputs": [
    {
     "data": {
      "text/plain": [
       "(204, 61)"
      ]
     },
     "execution_count": 5,
     "metadata": {},
     "output_type": "execute_result"
    }
   ],
   "source": [
    "# Dimensiones del dataset\n",
    "df.shape"
   ]
  },
  {
   "cell_type": "code",
   "execution_count": 6,
   "id": "9599e9ea",
   "metadata": {
    "scrolled": false
   },
   "outputs": [
    {
     "data": {
      "text/html": [
       "<div>\n",
       "<style scoped>\n",
       "    .dataframe tbody tr th:only-of-type {\n",
       "        vertical-align: middle;\n",
       "    }\n",
       "\n",
       "    .dataframe tbody tr th {\n",
       "        vertical-align: top;\n",
       "    }\n",
       "\n",
       "    .dataframe thead th {\n",
       "        text-align: right;\n",
       "    }\n",
       "</style>\n",
       "<table border=\"1\" class=\"dataframe\">\n",
       "  <thead>\n",
       "    <tr style=\"text-align: right;\">\n",
       "      <th></th>\n",
       "      <th>EDAD</th>\n",
       "      <th>ETNIA</th>\n",
       "      <th>OBESO</th>\n",
       "      <th>HTA</th>\n",
       "      <th>DM</th>\n",
       "      <th>TABACO</th>\n",
       "      <th>HEREDA</th>\n",
       "      <th>TACTOR</th>\n",
       "      <th>PSAPRE</th>\n",
       "      <th>PSALT</th>\n",
       "      <th>...</th>\n",
       "      <th>ERG</th>\n",
       "      <th>KI-67</th>\n",
       "      <th>SPINK1</th>\n",
       "      <th>C-MYC</th>\n",
       "      <th>IMC</th>\n",
       "      <th>ASA</th>\n",
       "      <th>GR</th>\n",
       "      <th>PNV</th>\n",
       "      <th>TH</th>\n",
       "      <th>PGG</th>\n",
       "    </tr>\n",
       "  </thead>\n",
       "  <tbody>\n",
       "    <tr>\n",
       "      <th>count</th>\n",
       "      <td>204.000000</td>\n",
       "      <td>204.000000</td>\n",
       "      <td>204.000000</td>\n",
       "      <td>204.000000</td>\n",
       "      <td>204.000000</td>\n",
       "      <td>204.000000</td>\n",
       "      <td>204.000000</td>\n",
       "      <td>204.000000</td>\n",
       "      <td>204.000000</td>\n",
       "      <td>132.000000</td>\n",
       "      <td>...</td>\n",
       "      <td>36.000000</td>\n",
       "      <td>36.000000</td>\n",
       "      <td>36.000000</td>\n",
       "      <td>36.000000</td>\n",
       "      <td>189.000000</td>\n",
       "      <td>200.000000</td>\n",
       "      <td>204.000000</td>\n",
       "      <td>42.000000</td>\n",
       "      <td>204.000000</td>\n",
       "      <td>204.000000</td>\n",
       "    </tr>\n",
       "    <tr>\n",
       "      <th>unique</th>\n",
       "      <td>NaN</td>\n",
       "      <td>NaN</td>\n",
       "      <td>NaN</td>\n",
       "      <td>NaN</td>\n",
       "      <td>NaN</td>\n",
       "      <td>NaN</td>\n",
       "      <td>NaN</td>\n",
       "      <td>NaN</td>\n",
       "      <td>NaN</td>\n",
       "      <td>NaN</td>\n",
       "      <td>...</td>\n",
       "      <td>NaN</td>\n",
       "      <td>NaN</td>\n",
       "      <td>NaN</td>\n",
       "      <td>NaN</td>\n",
       "      <td>NaN</td>\n",
       "      <td>NaN</td>\n",
       "      <td>NaN</td>\n",
       "      <td>NaN</td>\n",
       "      <td>NaN</td>\n",
       "      <td>NaN</td>\n",
       "    </tr>\n",
       "    <tr>\n",
       "      <th>top</th>\n",
       "      <td>NaN</td>\n",
       "      <td>NaN</td>\n",
       "      <td>NaN</td>\n",
       "      <td>NaN</td>\n",
       "      <td>NaN</td>\n",
       "      <td>NaN</td>\n",
       "      <td>NaN</td>\n",
       "      <td>NaN</td>\n",
       "      <td>NaN</td>\n",
       "      <td>NaN</td>\n",
       "      <td>...</td>\n",
       "      <td>NaN</td>\n",
       "      <td>NaN</td>\n",
       "      <td>NaN</td>\n",
       "      <td>NaN</td>\n",
       "      <td>NaN</td>\n",
       "      <td>NaN</td>\n",
       "      <td>NaN</td>\n",
       "      <td>NaN</td>\n",
       "      <td>NaN</td>\n",
       "      <td>NaN</td>\n",
       "    </tr>\n",
       "    <tr>\n",
       "      <th>freq</th>\n",
       "      <td>NaN</td>\n",
       "      <td>NaN</td>\n",
       "      <td>NaN</td>\n",
       "      <td>NaN</td>\n",
       "      <td>NaN</td>\n",
       "      <td>NaN</td>\n",
       "      <td>NaN</td>\n",
       "      <td>NaN</td>\n",
       "      <td>NaN</td>\n",
       "      <td>NaN</td>\n",
       "      <td>...</td>\n",
       "      <td>NaN</td>\n",
       "      <td>NaN</td>\n",
       "      <td>NaN</td>\n",
       "      <td>NaN</td>\n",
       "      <td>NaN</td>\n",
       "      <td>NaN</td>\n",
       "      <td>NaN</td>\n",
       "      <td>NaN</td>\n",
       "      <td>NaN</td>\n",
       "      <td>NaN</td>\n",
       "    </tr>\n",
       "    <tr>\n",
       "      <th>mean</th>\n",
       "      <td>61.926471</td>\n",
       "      <td>1.029412</td>\n",
       "      <td>2.004902</td>\n",
       "      <td>1.632353</td>\n",
       "      <td>1.901961</td>\n",
       "      <td>2.102941</td>\n",
       "      <td>1.862745</td>\n",
       "      <td>1.352941</td>\n",
       "      <td>6.862990</td>\n",
       "      <td>0.225985</td>\n",
       "      <td>...</td>\n",
       "      <td>0.361111</td>\n",
       "      <td>0.611111</td>\n",
       "      <td>0.277778</td>\n",
       "      <td>0.583333</td>\n",
       "      <td>28.392593</td>\n",
       "      <td>1.980000</td>\n",
       "      <td>1.627451</td>\n",
       "      <td>1.500000</td>\n",
       "      <td>5.955882</td>\n",
       "      <td>0.001495</td>\n",
       "    </tr>\n",
       "    <tr>\n",
       "      <th>std</th>\n",
       "      <td>6.598215</td>\n",
       "      <td>0.219981</td>\n",
       "      <td>0.784691</td>\n",
       "      <td>0.483351</td>\n",
       "      <td>0.298099</td>\n",
       "      <td>1.233439</td>\n",
       "      <td>0.344963</td>\n",
       "      <td>0.589682</td>\n",
       "      <td>3.510452</td>\n",
       "      <td>0.199434</td>\n",
       "      <td>...</td>\n",
       "      <td>0.487136</td>\n",
       "      <td>0.494413</td>\n",
       "      <td>0.454257</td>\n",
       "      <td>0.500000</td>\n",
       "      <td>3.952046</td>\n",
       "      <td>0.548731</td>\n",
       "      <td>0.679344</td>\n",
       "      <td>0.506061</td>\n",
       "      <td>3.017684</td>\n",
       "      <td>0.017904</td>\n",
       "    </tr>\n",
       "    <tr>\n",
       "      <th>min</th>\n",
       "      <td>46.000000</td>\n",
       "      <td>1.000000</td>\n",
       "      <td>0.000000</td>\n",
       "      <td>1.000000</td>\n",
       "      <td>1.000000</td>\n",
       "      <td>0.000000</td>\n",
       "      <td>1.000000</td>\n",
       "      <td>1.000000</td>\n",
       "      <td>2.890000</td>\n",
       "      <td>0.020000</td>\n",
       "      <td>...</td>\n",
       "      <td>0.000000</td>\n",
       "      <td>0.000000</td>\n",
       "      <td>0.000000</td>\n",
       "      <td>0.000000</td>\n",
       "      <td>19.700000</td>\n",
       "      <td>1.000000</td>\n",
       "      <td>0.000000</td>\n",
       "      <td>1.000000</td>\n",
       "      <td>4.000000</td>\n",
       "      <td>0.000000</td>\n",
       "    </tr>\n",
       "    <tr>\n",
       "      <th>25%</th>\n",
       "      <td>57.750000</td>\n",
       "      <td>1.000000</td>\n",
       "      <td>2.000000</td>\n",
       "      <td>1.000000</td>\n",
       "      <td>2.000000</td>\n",
       "      <td>1.000000</td>\n",
       "      <td>2.000000</td>\n",
       "      <td>1.000000</td>\n",
       "      <td>4.865000</td>\n",
       "      <td>0.107500</td>\n",
       "      <td>...</td>\n",
       "      <td>0.000000</td>\n",
       "      <td>0.000000</td>\n",
       "      <td>0.000000</td>\n",
       "      <td>0.000000</td>\n",
       "      <td>25.700000</td>\n",
       "      <td>2.000000</td>\n",
       "      <td>1.000000</td>\n",
       "      <td>1.000000</td>\n",
       "      <td>5.000000</td>\n",
       "      <td>0.000000</td>\n",
       "    </tr>\n",
       "    <tr>\n",
       "      <th>50%</th>\n",
       "      <td>63.000000</td>\n",
       "      <td>1.000000</td>\n",
       "      <td>2.000000</td>\n",
       "      <td>2.000000</td>\n",
       "      <td>2.000000</td>\n",
       "      <td>2.000000</td>\n",
       "      <td>2.000000</td>\n",
       "      <td>1.000000</td>\n",
       "      <td>5.990000</td>\n",
       "      <td>0.180000</td>\n",
       "      <td>...</td>\n",
       "      <td>0.000000</td>\n",
       "      <td>1.000000</td>\n",
       "      <td>0.000000</td>\n",
       "      <td>1.000000</td>\n",
       "      <td>27.800000</td>\n",
       "      <td>2.000000</td>\n",
       "      <td>2.000000</td>\n",
       "      <td>1.500000</td>\n",
       "      <td>5.000000</td>\n",
       "      <td>0.000000</td>\n",
       "    </tr>\n",
       "    <tr>\n",
       "      <th>75%</th>\n",
       "      <td>67.000000</td>\n",
       "      <td>1.000000</td>\n",
       "      <td>3.000000</td>\n",
       "      <td>2.000000</td>\n",
       "      <td>2.000000</td>\n",
       "      <td>3.000000</td>\n",
       "      <td>2.000000</td>\n",
       "      <td>2.000000</td>\n",
       "      <td>7.747500</td>\n",
       "      <td>0.250000</td>\n",
       "      <td>...</td>\n",
       "      <td>1.000000</td>\n",
       "      <td>1.000000</td>\n",
       "      <td>1.000000</td>\n",
       "      <td>1.000000</td>\n",
       "      <td>30.400000</td>\n",
       "      <td>2.000000</td>\n",
       "      <td>2.000000</td>\n",
       "      <td>2.000000</td>\n",
       "      <td>6.000000</td>\n",
       "      <td>0.000000</td>\n",
       "    </tr>\n",
       "    <tr>\n",
       "      <th>max</th>\n",
       "      <td>78.000000</td>\n",
       "      <td>3.000000</td>\n",
       "      <td>3.000000</td>\n",
       "      <td>2.000000</td>\n",
       "      <td>2.000000</td>\n",
       "      <td>5.000000</td>\n",
       "      <td>2.000000</td>\n",
       "      <td>3.000000</td>\n",
       "      <td>27.000000</td>\n",
       "      <td>0.990000</td>\n",
       "      <td>...</td>\n",
       "      <td>1.000000</td>\n",
       "      <td>1.000000</td>\n",
       "      <td>1.000000</td>\n",
       "      <td>1.000000</td>\n",
       "      <td>46.000000</td>\n",
       "      <td>4.000000</td>\n",
       "      <td>2.000000</td>\n",
       "      <td>2.000000</td>\n",
       "      <td>32.000000</td>\n",
       "      <td>0.250000</td>\n",
       "    </tr>\n",
       "  </tbody>\n",
       "</table>\n",
       "<p>11 rows × 61 columns</p>\n",
       "</div>"
      ],
      "text/plain": [
       "              EDAD       ETNIA       OBESO         HTA          DM  \\\n",
       "count   204.000000  204.000000  204.000000  204.000000  204.000000   \n",
       "unique         NaN         NaN         NaN         NaN         NaN   \n",
       "top            NaN         NaN         NaN         NaN         NaN   \n",
       "freq           NaN         NaN         NaN         NaN         NaN   \n",
       "mean     61.926471    1.029412    2.004902    1.632353    1.901961   \n",
       "std       6.598215    0.219981    0.784691    0.483351    0.298099   \n",
       "min      46.000000    1.000000    0.000000    1.000000    1.000000   \n",
       "25%      57.750000    1.000000    2.000000    1.000000    2.000000   \n",
       "50%      63.000000    1.000000    2.000000    2.000000    2.000000   \n",
       "75%      67.000000    1.000000    3.000000    2.000000    2.000000   \n",
       "max      78.000000    3.000000    3.000000    2.000000    2.000000   \n",
       "\n",
       "            TABACO      HEREDA      TACTOR      PSAPRE       PSALT  ...  \\\n",
       "count   204.000000  204.000000  204.000000  204.000000  132.000000  ...   \n",
       "unique         NaN         NaN         NaN         NaN         NaN  ...   \n",
       "top            NaN         NaN         NaN         NaN         NaN  ...   \n",
       "freq           NaN         NaN         NaN         NaN         NaN  ...   \n",
       "mean      2.102941    1.862745    1.352941    6.862990    0.225985  ...   \n",
       "std       1.233439    0.344963    0.589682    3.510452    0.199434  ...   \n",
       "min       0.000000    1.000000    1.000000    2.890000    0.020000  ...   \n",
       "25%       1.000000    2.000000    1.000000    4.865000    0.107500  ...   \n",
       "50%       2.000000    2.000000    1.000000    5.990000    0.180000  ...   \n",
       "75%       3.000000    2.000000    2.000000    7.747500    0.250000  ...   \n",
       "max       5.000000    2.000000    3.000000   27.000000    0.990000  ...   \n",
       "\n",
       "              ERG      KI-67     SPINK1      C-MYC         IMC         ASA  \\\n",
       "count   36.000000  36.000000  36.000000  36.000000  189.000000  200.000000   \n",
       "unique        NaN        NaN        NaN        NaN         NaN         NaN   \n",
       "top           NaN        NaN        NaN        NaN         NaN         NaN   \n",
       "freq          NaN        NaN        NaN        NaN         NaN         NaN   \n",
       "mean     0.361111   0.611111   0.277778   0.583333   28.392593    1.980000   \n",
       "std      0.487136   0.494413   0.454257   0.500000    3.952046    0.548731   \n",
       "min      0.000000   0.000000   0.000000   0.000000   19.700000    1.000000   \n",
       "25%      0.000000   0.000000   0.000000   0.000000   25.700000    2.000000   \n",
       "50%      0.000000   1.000000   0.000000   1.000000   27.800000    2.000000   \n",
       "75%      1.000000   1.000000   1.000000   1.000000   30.400000    2.000000   \n",
       "max      1.000000   1.000000   1.000000   1.000000   46.000000    4.000000   \n",
       "\n",
       "                GR        PNV          TH         PGG  \n",
       "count   204.000000  42.000000  204.000000  204.000000  \n",
       "unique         NaN        NaN         NaN         NaN  \n",
       "top            NaN        NaN         NaN         NaN  \n",
       "freq           NaN        NaN         NaN         NaN  \n",
       "mean      1.627451   1.500000    5.955882    0.001495  \n",
       "std       0.679344   0.506061    3.017684    0.017904  \n",
       "min       0.000000   1.000000    4.000000    0.000000  \n",
       "25%       1.000000   1.000000    5.000000    0.000000  \n",
       "50%       2.000000   1.500000    5.000000    0.000000  \n",
       "75%       2.000000   2.000000    6.000000    0.000000  \n",
       "max       2.000000   2.000000   32.000000    0.250000  \n",
       "\n",
       "[11 rows x 61 columns]"
      ]
     },
     "execution_count": 6,
     "metadata": {},
     "output_type": "execute_result"
    }
   ],
   "source": [
    "# Resumen estadístico\n",
    "df.describe(include=\"all\", datetime_is_numeric=True)"
   ]
  },
  {
   "cell_type": "code",
   "execution_count": 7,
   "id": "c5c17a3a",
   "metadata": {},
   "outputs": [
    {
     "name": "stdout",
     "output_type": "stream",
     "text": [
      "Number of deleted columns: 14\n",
      "Number of columns of the cleaned DF: 47\n",
      "Index(['EDAD', 'ETNIA', 'OBESO', 'HTA', 'DM', 'TABACO', 'HEREDA', 'TACTOR',\n",
      "       'PSAPRE', 'PSALT', 'TDUPPRE', 'ECOTR', 'NBIOPSIA', 'HISTO', 'GLEASON1',\n",
      "       'NCILPOS', 'BILAT', 'PORCENT', 'IPERIN', 'ILINF', 'IVASCU', 'TNM1',\n",
      "       'HISTO2', 'GLEASON2', 'BILAT2', 'LOCALIZ', 'MULTIFOC', 'VOLUMEN',\n",
      "       'EXTRACAP', 'VVSS', 'IPERIN2', 'ILINF2', 'IVASCU2', 'PINAG', 'MARGEN',\n",
      "       'TNM2', 'PSAPOS', 'RTPADYU', 'RBQ', 'T.SEG', 'FALLEC', 'CAPRA-S', 'IMC',\n",
      "       'ASA', 'GR', 'TH', 'PGG'],\n",
      "      dtype='object')\n"
     ]
    }
   ],
   "source": [
    "# Eliminar las columnas con valores faltantes (NaN), iguales o mayores al 50%\n",
    "clean_df = df\n",
    "deleted_cols = 0\n",
    "for column in df:\n",
    "    sum_na_values = df[column].isna().sum()\n",
    "    if sum_na_values > 0:\n",
    "        percent = sum_na_values/len(df)\n",
    "        \n",
    "        if(percent >= 0.5):\n",
    "            # print(column, \":\", percent)\n",
    "            clean_df = clean_df.drop([column], axis=1)\n",
    "            deleted_cols += 1\n",
    "\n",
    "print(\"Number of deleted columns:\", deleted_cols)\n",
    "print(\"Number of columns of the cleaned DF:\", len(clean_df.columns))\n",
    "print(clean_df.columns)\n",
    "df = clean_df"
   ]
  },
  {
   "cell_type": "code",
   "execution_count": 8,
   "id": "d390894d",
   "metadata": {},
   "outputs": [],
   "source": [
    "clean_df['PORCENT'] = clean_df['PORCENT'] / 100\n",
    "clean_df['VOLUMEN'] = clean_df['VOLUMEN'] / 100"
   ]
  },
  {
   "cell_type": "code",
   "execution_count": 9,
   "id": "802473bf",
   "metadata": {},
   "outputs": [],
   "source": [
    "# Si hay algun campo sin datos, lo rellenamos con la mediana de la columna\n",
    "for column in clean_df:\n",
    "    if(clean_df[column].isnull().values.any()):\n",
    "        median = clean_df[column].median()\n",
    "        clean_df[column].fillna(median, inplace=True)"
   ]
  },
  {
   "cell_type": "code",
   "execution_count": 10,
   "id": "bc708f3e",
   "metadata": {},
   "outputs": [
    {
     "data": {
      "text/html": [
       "<div>\n",
       "<style scoped>\n",
       "    .dataframe tbody tr th:only-of-type {\n",
       "        vertical-align: middle;\n",
       "    }\n",
       "\n",
       "    .dataframe tbody tr th {\n",
       "        vertical-align: top;\n",
       "    }\n",
       "\n",
       "    .dataframe thead th {\n",
       "        text-align: right;\n",
       "    }\n",
       "</style>\n",
       "<table border=\"1\" class=\"dataframe\">\n",
       "  <thead>\n",
       "    <tr style=\"text-align: right;\">\n",
       "      <th></th>\n",
       "      <th>EDAD</th>\n",
       "      <th>ETNIA</th>\n",
       "      <th>OBESO</th>\n",
       "      <th>HTA</th>\n",
       "      <th>DM</th>\n",
       "      <th>TABACO</th>\n",
       "      <th>HEREDA</th>\n",
       "      <th>TACTOR</th>\n",
       "      <th>PSAPRE</th>\n",
       "      <th>PSALT</th>\n",
       "      <th>...</th>\n",
       "      <th>RTPADYU</th>\n",
       "      <th>RBQ</th>\n",
       "      <th>T.SEG</th>\n",
       "      <th>FALLEC</th>\n",
       "      <th>CAPRA-S</th>\n",
       "      <th>IMC</th>\n",
       "      <th>ASA</th>\n",
       "      <th>GR</th>\n",
       "      <th>TH</th>\n",
       "      <th>PGG</th>\n",
       "    </tr>\n",
       "  </thead>\n",
       "  <tbody>\n",
       "    <tr>\n",
       "      <th>count</th>\n",
       "      <td>204.000000</td>\n",
       "      <td>204.000000</td>\n",
       "      <td>204.000000</td>\n",
       "      <td>204.000000</td>\n",
       "      <td>204.000000</td>\n",
       "      <td>204.000000</td>\n",
       "      <td>204.000000</td>\n",
       "      <td>204.000000</td>\n",
       "      <td>204.000000</td>\n",
       "      <td>204.000000</td>\n",
       "      <td>...</td>\n",
       "      <td>204.000000</td>\n",
       "      <td>204.000000</td>\n",
       "      <td>204.000000</td>\n",
       "      <td>204.00000</td>\n",
       "      <td>204.000000</td>\n",
       "      <td>204.000000</td>\n",
       "      <td>204.000000</td>\n",
       "      <td>204.000000</td>\n",
       "      <td>204.000000</td>\n",
       "      <td>204.000000</td>\n",
       "    </tr>\n",
       "    <tr>\n",
       "      <th>mean</th>\n",
       "      <td>61.926471</td>\n",
       "      <td>1.029412</td>\n",
       "      <td>2.004902</td>\n",
       "      <td>1.632353</td>\n",
       "      <td>1.901961</td>\n",
       "      <td>2.102941</td>\n",
       "      <td>1.862745</td>\n",
       "      <td>1.352941</td>\n",
       "      <td>6.862990</td>\n",
       "      <td>0.209755</td>\n",
       "      <td>...</td>\n",
       "      <td>1.848039</td>\n",
       "      <td>1.965686</td>\n",
       "      <td>59.850200</td>\n",
       "      <td>1.95098</td>\n",
       "      <td>2.813725</td>\n",
       "      <td>28.349020</td>\n",
       "      <td>1.980392</td>\n",
       "      <td>1.627451</td>\n",
       "      <td>5.955882</td>\n",
       "      <td>0.001495</td>\n",
       "    </tr>\n",
       "    <tr>\n",
       "      <th>std</th>\n",
       "      <td>6.598215</td>\n",
       "      <td>0.219981</td>\n",
       "      <td>0.784691</td>\n",
       "      <td>0.483351</td>\n",
       "      <td>0.298099</td>\n",
       "      <td>1.233439</td>\n",
       "      <td>0.344963</td>\n",
       "      <td>0.589682</td>\n",
       "      <td>3.510452</td>\n",
       "      <td>0.161716</td>\n",
       "      <td>...</td>\n",
       "      <td>0.359866</td>\n",
       "      <td>0.269645</td>\n",
       "      <td>26.958990</td>\n",
       "      <td>0.21644</td>\n",
       "      <td>2.426173</td>\n",
       "      <td>3.806392</td>\n",
       "      <td>0.543305</td>\n",
       "      <td>0.679344</td>\n",
       "      <td>3.017684</td>\n",
       "      <td>0.017904</td>\n",
       "    </tr>\n",
       "    <tr>\n",
       "      <th>min</th>\n",
       "      <td>46.000000</td>\n",
       "      <td>1.000000</td>\n",
       "      <td>0.000000</td>\n",
       "      <td>1.000000</td>\n",
       "      <td>1.000000</td>\n",
       "      <td>0.000000</td>\n",
       "      <td>1.000000</td>\n",
       "      <td>1.000000</td>\n",
       "      <td>2.890000</td>\n",
       "      <td>0.020000</td>\n",
       "      <td>...</td>\n",
       "      <td>1.000000</td>\n",
       "      <td>1.000000</td>\n",
       "      <td>2.203947</td>\n",
       "      <td>1.00000</td>\n",
       "      <td>0.000000</td>\n",
       "      <td>19.700000</td>\n",
       "      <td>1.000000</td>\n",
       "      <td>0.000000</td>\n",
       "      <td>4.000000</td>\n",
       "      <td>0.000000</td>\n",
       "    </tr>\n",
       "    <tr>\n",
       "      <th>25%</th>\n",
       "      <td>57.750000</td>\n",
       "      <td>1.000000</td>\n",
       "      <td>2.000000</td>\n",
       "      <td>1.000000</td>\n",
       "      <td>2.000000</td>\n",
       "      <td>1.000000</td>\n",
       "      <td>2.000000</td>\n",
       "      <td>1.000000</td>\n",
       "      <td>4.865000</td>\n",
       "      <td>0.147500</td>\n",
       "      <td>...</td>\n",
       "      <td>2.000000</td>\n",
       "      <td>2.000000</td>\n",
       "      <td>40.370066</td>\n",
       "      <td>2.00000</td>\n",
       "      <td>1.000000</td>\n",
       "      <td>26.000000</td>\n",
       "      <td>2.000000</td>\n",
       "      <td>1.000000</td>\n",
       "      <td>5.000000</td>\n",
       "      <td>0.000000</td>\n",
       "    </tr>\n",
       "    <tr>\n",
       "      <th>50%</th>\n",
       "      <td>63.000000</td>\n",
       "      <td>1.000000</td>\n",
       "      <td>2.000000</td>\n",
       "      <td>2.000000</td>\n",
       "      <td>2.000000</td>\n",
       "      <td>2.000000</td>\n",
       "      <td>2.000000</td>\n",
       "      <td>1.000000</td>\n",
       "      <td>5.990000</td>\n",
       "      <td>0.180000</td>\n",
       "      <td>...</td>\n",
       "      <td>2.000000</td>\n",
       "      <td>2.000000</td>\n",
       "      <td>57.680921</td>\n",
       "      <td>2.00000</td>\n",
       "      <td>2.000000</td>\n",
       "      <td>27.800000</td>\n",
       "      <td>2.000000</td>\n",
       "      <td>2.000000</td>\n",
       "      <td>5.000000</td>\n",
       "      <td>0.000000</td>\n",
       "    </tr>\n",
       "    <tr>\n",
       "      <th>75%</th>\n",
       "      <td>67.000000</td>\n",
       "      <td>1.000000</td>\n",
       "      <td>3.000000</td>\n",
       "      <td>2.000000</td>\n",
       "      <td>2.000000</td>\n",
       "      <td>3.000000</td>\n",
       "      <td>2.000000</td>\n",
       "      <td>2.000000</td>\n",
       "      <td>7.747500</td>\n",
       "      <td>0.210000</td>\n",
       "      <td>...</td>\n",
       "      <td>2.000000</td>\n",
       "      <td>2.000000</td>\n",
       "      <td>77.343750</td>\n",
       "      <td>2.00000</td>\n",
       "      <td>4.000000</td>\n",
       "      <td>30.100000</td>\n",
       "      <td>2.000000</td>\n",
       "      <td>2.000000</td>\n",
       "      <td>6.000000</td>\n",
       "      <td>0.000000</td>\n",
       "    </tr>\n",
       "    <tr>\n",
       "      <th>max</th>\n",
       "      <td>78.000000</td>\n",
       "      <td>3.000000</td>\n",
       "      <td>3.000000</td>\n",
       "      <td>2.000000</td>\n",
       "      <td>2.000000</td>\n",
       "      <td>5.000000</td>\n",
       "      <td>2.000000</td>\n",
       "      <td>3.000000</td>\n",
       "      <td>27.000000</td>\n",
       "      <td>0.990000</td>\n",
       "      <td>...</td>\n",
       "      <td>2.000000</td>\n",
       "      <td>3.000000</td>\n",
       "      <td>118.881579</td>\n",
       "      <td>2.00000</td>\n",
       "      <td>11.000000</td>\n",
       "      <td>46.000000</td>\n",
       "      <td>4.000000</td>\n",
       "      <td>2.000000</td>\n",
       "      <td>32.000000</td>\n",
       "      <td>0.250000</td>\n",
       "    </tr>\n",
       "  </tbody>\n",
       "</table>\n",
       "<p>8 rows × 47 columns</p>\n",
       "</div>"
      ],
      "text/plain": [
       "             EDAD       ETNIA       OBESO         HTA          DM      TABACO  \\\n",
       "count  204.000000  204.000000  204.000000  204.000000  204.000000  204.000000   \n",
       "mean    61.926471    1.029412    2.004902    1.632353    1.901961    2.102941   \n",
       "std      6.598215    0.219981    0.784691    0.483351    0.298099    1.233439   \n",
       "min     46.000000    1.000000    0.000000    1.000000    1.000000    0.000000   \n",
       "25%     57.750000    1.000000    2.000000    1.000000    2.000000    1.000000   \n",
       "50%     63.000000    1.000000    2.000000    2.000000    2.000000    2.000000   \n",
       "75%     67.000000    1.000000    3.000000    2.000000    2.000000    3.000000   \n",
       "max     78.000000    3.000000    3.000000    2.000000    2.000000    5.000000   \n",
       "\n",
       "           HEREDA      TACTOR      PSAPRE       PSALT  ...     RTPADYU  \\\n",
       "count  204.000000  204.000000  204.000000  204.000000  ...  204.000000   \n",
       "mean     1.862745    1.352941    6.862990    0.209755  ...    1.848039   \n",
       "std      0.344963    0.589682    3.510452    0.161716  ...    0.359866   \n",
       "min      1.000000    1.000000    2.890000    0.020000  ...    1.000000   \n",
       "25%      2.000000    1.000000    4.865000    0.147500  ...    2.000000   \n",
       "50%      2.000000    1.000000    5.990000    0.180000  ...    2.000000   \n",
       "75%      2.000000    2.000000    7.747500    0.210000  ...    2.000000   \n",
       "max      2.000000    3.000000   27.000000    0.990000  ...    2.000000   \n",
       "\n",
       "              RBQ       T.SEG     FALLEC     CAPRA-S         IMC         ASA  \\\n",
       "count  204.000000  204.000000  204.00000  204.000000  204.000000  204.000000   \n",
       "mean     1.965686   59.850200    1.95098    2.813725   28.349020    1.980392   \n",
       "std      0.269645   26.958990    0.21644    2.426173    3.806392    0.543305   \n",
       "min      1.000000    2.203947    1.00000    0.000000   19.700000    1.000000   \n",
       "25%      2.000000   40.370066    2.00000    1.000000   26.000000    2.000000   \n",
       "50%      2.000000   57.680921    2.00000    2.000000   27.800000    2.000000   \n",
       "75%      2.000000   77.343750    2.00000    4.000000   30.100000    2.000000   \n",
       "max      3.000000  118.881579    2.00000   11.000000   46.000000    4.000000   \n",
       "\n",
       "               GR          TH         PGG  \n",
       "count  204.000000  204.000000  204.000000  \n",
       "mean     1.627451    5.955882    0.001495  \n",
       "std      0.679344    3.017684    0.017904  \n",
       "min      0.000000    4.000000    0.000000  \n",
       "25%      1.000000    5.000000    0.000000  \n",
       "50%      2.000000    5.000000    0.000000  \n",
       "75%      2.000000    6.000000    0.000000  \n",
       "max      2.000000   32.000000    0.250000  \n",
       "\n",
       "[8 rows x 47 columns]"
      ]
     },
     "execution_count": 10,
     "metadata": {},
     "output_type": "execute_result"
    }
   ],
   "source": [
    "clean_df.describe()"
   ]
  },
  {
   "cell_type": "code",
   "execution_count": 11,
   "id": "fb7cb76e",
   "metadata": {},
   "outputs": [
    {
     "name": "stdout",
     "output_type": "stream",
     "text": [
      "<class 'pandas.core.frame.DataFrame'>\n",
      "RangeIndex: 204 entries, 0 to 203\n",
      "Data columns (total 47 columns):\n",
      " #   Column    Non-Null Count  Dtype  \n",
      "---  ------    --------------  -----  \n",
      " 0   EDAD      204 non-null    int64  \n",
      " 1   ETNIA     204 non-null    int64  \n",
      " 2   OBESO     204 non-null    int64  \n",
      " 3   HTA       204 non-null    int64  \n",
      " 4   DM        204 non-null    int64  \n",
      " 5   TABACO    204 non-null    int64  \n",
      " 6   HEREDA    204 non-null    int64  \n",
      " 7   TACTOR    204 non-null    int64  \n",
      " 8   PSAPRE    204 non-null    float64\n",
      " 9   PSALT     204 non-null    float64\n",
      " 10  TDUPPRE   204 non-null    float64\n",
      " 11  ECOTR     204 non-null    int64  \n",
      " 12  NBIOPSIA  204 non-null    int64  \n",
      " 13  HISTO     204 non-null    int64  \n",
      " 14  GLEASON1  204 non-null    int64  \n",
      " 15  NCILPOS   204 non-null    int64  \n",
      " 16  BILAT     204 non-null    float64\n",
      " 17  PORCENT   204 non-null    float64\n",
      " 18  IPERIN    204 non-null    int64  \n",
      " 19  ILINF     204 non-null    int64  \n",
      " 20  IVASCU    204 non-null    int64  \n",
      " 21  TNM1      204 non-null    int64  \n",
      " 22  HISTO2    204 non-null    int64  \n",
      " 23  GLEASON2  204 non-null    int64  \n",
      " 24  BILAT2    204 non-null    int64  \n",
      " 25  LOCALIZ   204 non-null    int64  \n",
      " 26  MULTIFOC  204 non-null    int64  \n",
      " 27  VOLUMEN   204 non-null    float64\n",
      " 28  EXTRACAP  204 non-null    int64  \n",
      " 29  VVSS      204 non-null    int64  \n",
      " 30  IPERIN2   204 non-null    int64  \n",
      " 31  ILINF2    204 non-null    int64  \n",
      " 32  IVASCU2   204 non-null    int64  \n",
      " 33  PINAG     204 non-null    int64  \n",
      " 34  MARGEN    204 non-null    int64  \n",
      " 35  TNM2      204 non-null    int64  \n",
      " 36  PSAPOS    204 non-null    float64\n",
      " 37  RTPADYU   204 non-null    int64  \n",
      " 38  RBQ       204 non-null    float64\n",
      " 39  T.SEG     204 non-null    float64\n",
      " 40  FALLEC    204 non-null    float64\n",
      " 41  CAPRA-S   204 non-null    int64  \n",
      " 42  IMC       204 non-null    float64\n",
      " 43  ASA       204 non-null    float64\n",
      " 44  GR        204 non-null    int64  \n",
      " 45  TH        204 non-null    int64  \n",
      " 46  PGG       204 non-null    float64\n",
      "dtypes: float64(13), int64(34)\n",
      "memory usage: 75.0 KB\n"
     ]
    }
   ],
   "source": [
    "clean_df.info()"
   ]
  },
  {
   "cell_type": "code",
   "execution_count": 12,
   "id": "db91fd06",
   "metadata": {},
   "outputs": [
    {
     "data": {
      "image/png": "[encoded data removed]",
      "text/plain": [
       "<Figure size 2952x1440 with 49 Axes>"
      ]
     },
     "metadata": {
      "needs_background": "light"
     },
     "output_type": "display_data"
    }
   ],
   "source": [
    "# Histogramas para visualizar los datos\n",
    "def print_hist():\n",
    "    df.hist(bins=clean_df.shape[1], figsize=(41,20))\n",
    "print_hist()"
   ]
  },
  {
   "cell_type": "code",
   "execution_count": 13,
   "id": "ba3be266",
   "metadata": {},
   "outputs": [],
   "source": [
    "# Eliminación de NC (desconocido)\n",
    "from random import randrange\n",
    "df[\"IPERIN2\"] = df[\"IPERIN2\"].replace(to_replace=3, value=randrange(1,3))\n",
    "\n",
    "# Por lo que se puede observar, el SI tiene mayor peso. Podemos eliminar NC, \n",
    "# reasignando a cada fila con valor NC un valor aleatorio entre SI y NO."
   ]
  },
  {
   "cell_type": "code",
   "execution_count": 14,
   "id": "0413155d",
   "metadata": {},
   "outputs": [
    {
     "data": {
      "image/png": "[encoded data removed]",
      "text/plain": [
       "<Figure size 432x288 with 1 Axes>"
      ]
     },
     "metadata": {
      "needs_background": "light"
     },
     "output_type": "display_data"
    }
   ],
   "source": [
    "hist = df.hist(column=\"IPERIN2\", bins=3)"
   ]
  },
  {
   "cell_type": "code",
   "execution_count": 15,
   "id": "b6718734",
   "metadata": {},
   "outputs": [],
   "source": [
    "# Más drops para realizar el entrenamiento\n",
    "df = df.drop(['ETNIA', 'HISTO', 'IPERIN', 'ILINF', 'IVASCU', 'HISTO2', 'ILINF2', 'IVASCU2', 'FALLEC'], axis=1)"
   ]
  },
  {
   "cell_type": "markdown",
   "id": "d44b8f87",
   "metadata": {},
   "source": [
    "**Notas**. Columnas eliminadas y motivos:\n",
    "\n",
    "- ETNIA: Estos estudios se realizaron en España, por lo que la mayoría de la población es caucásica. No aportaría mucha información. Puede producir overfitting si dejamos esta columna. El hecho de ser caucásico influenciaría demasiado sobre la predicción.\n",
    "\n",
    "\n",
    "- HISTO: Solo hay dos categorías, Adenocarcinoma y Otro. La mayoría pertenece a adenocarcinoma por lo que esta variable no aporta mucha información.\n",
    "\n",
    "\n",
    "- HISTO2: Igual que HISTO.\n",
    "    \n",
    "    \n",
    "- IPERIN: 3 categorías (si, no, nc). La mayoría de los casos no se conocen. Al tener menos de 30 casos conocidos (sobre los más de 200), no tiene mucho sentido utilizar esta variable.\n",
    "\n",
    "\n",
    "- ILINF: 3 categorías (si, no, nc). La mayoría de los casos no se conocen. No tiene mucho sentido utilizar esta variable.\n",
    "\n",
    "\n",
    "- ILINF2: Igual que ILINF\n",
    "\n",
    "\n",
    "- IVASCU: 3 categorías (si, no, nc). La mayoría de los casos no se conocen. No tiene mucho sentido utilizar esta variable.\n",
    "\n",
    "\n",
    "- IVASCU2: Igual que IVASCU\n",
    "\n",
    "\n",
    "- FALLEC: Esta variable se tiene que eliminar, ya que el fallecimiento no influye en nada en la predicción de la RBQ. Además, es una consecuencia, no una causa. Usarlo no tiene ningún sentido."
   ]
  },
  {
   "cell_type": "code",
   "execution_count": 16,
   "id": "cd99208b",
   "metadata": {},
   "outputs": [
    {
     "data": {
      "image/png": "[encoded data removed]",
      "text/plain": [
       "<Figure size 432x288 with 1 Axes>"
      ]
     },
     "metadata": {
      "needs_background": "light"
     },
     "output_type": "display_data"
    }
   ],
   "source": [
    "# Gráficos PERSISTENCIA PSA\n",
    "hist = df.hist(column=\"RBQ\", bins=3)"
   ]
  },
  {
   "cell_type": "code",
   "execution_count": 17,
   "id": "4c3af521",
   "metadata": {},
   "outputs": [],
   "source": [
    "# Eliminar aquellos pacientes con PERSISTENCIA PSA y reasignarlos de manera aleatoria\n",
    "df[\"RBQ\"] = df[\"RBQ\"].replace(to_replace=3, value=randrange(1,3))"
   ]
  },
  {
   "cell_type": "code",
   "execution_count": 18,
   "id": "e4c73193",
   "metadata": {
    "scrolled": false
   },
   "outputs": [
    {
     "data": {
      "image/png": "[encoded data removed]",
      "text/plain": [
       "<Figure size 432x288 with 1 Axes>"
      ]
     },
     "metadata": {
      "needs_background": "light"
     },
     "output_type": "display_data"
    }
   ],
   "source": [
    "# Graficos sin PERSISTENCIA PSA\n",
    "hist = df.hist(column=\"RBQ\", bins=3)"
   ]
  },
  {
   "cell_type": "markdown",
   "id": "9654214c",
   "metadata": {},
   "source": [
    "Se favorecerá el 'NO' en las predicciones, ya que las clases están muy desbalanceadas."
   ]
  },
  {
   "cell_type": "markdown",
   "id": "38ed9ac0",
   "metadata": {},
   "source": [
    "## Generación de datos de entrenamiento y test\n",
    "Usamos el 60% para entrenar y 40% para testear. Lo ideal es 70% para entrenar y 30% para testear, pero tenemos muy pocos datos para testear."
   ]
  },
  {
   "cell_type": "code",
   "execution_count": 19,
   "id": "38549b24",
   "metadata": {},
   "outputs": [],
   "source": [
    "y = clean_df['RBQ'] \n",
    "X = clean_df.drop('RBQ', axis=1)\n",
    "X_train, X_test, y_train, y_test = train_test_split(X, y, train_size=0.6)"
   ]
  },
  {
   "cell_type": "markdown",
   "id": "01a113da",
   "metadata": {},
   "source": [
    "## Random Forest"
   ]
  },
  {
   "cell_type": "markdown",
   "id": "0d238181",
   "metadata": {},
   "source": [
    "### Búsqueda del mejor valor de ```max_samples```\n",
    "\n",
    "Buscamos el mejor ```max_samples``` (número de pacientes por árbol). Se ha elegido un rango entre 100 y 122 ya que para el entrenamiento solo disponemos de 122 filas. Si ```max_samples=122```, todos los árboles serían iguales y el random forest no sería tan efectivo. Si ```max_samples``` es muy pequeño, no tendríamos los suficientes datos para hacer un buen entrenamiento."
   ]
  },
  {
   "cell_type": "code",
   "execution_count": 20,
   "id": "b2a41fcb",
   "metadata": {},
   "outputs": [
    {
     "data": {
      "image/png": "[encoded data removed]",
      "text/plain": [
       "<Figure size 432x288 with 1 Axes>"
      ]
     },
     "metadata": {
      "needs_background": "light"
     },
     "output_type": "display_data"
    }
   ],
   "source": [
    "def get_best_max_samples():\n",
    "    y = clean_df['RBQ'] \n",
    "    X = clean_df.drop('RBQ', axis=1)\n",
    "    X_train, X_test, y_train, y_test = train_test_split(X, y, train_size=0.6)\n",
    "    \n",
    "    samples_range = range(100, 122)\n",
    "    scores = []\n",
    "\n",
    "    for n in samples_range:\n",
    "        pipe_rfc = RandomForestClassifier(n_estimators=100, bootstrap=True, max_samples=n, class_weight='balanced')\n",
    "                    \n",
    "        pipe_rfc.fit(X_train, y_train)\n",
    "\n",
    "        scores.append(pipe_rfc.score(X_test, y_test))\n",
    "\n",
    "    plt.figure()\n",
    "    plt.xlabel('max_samples')\n",
    "    plt.ylabel('accuracy')\n",
    "    plt.scatter(samples_range, scores)\n",
    "    plt.xticks(samples_range)\n",
    "\n",
    "get_best_max_samples()"
   ]
  },
  {
   "cell_type": "markdown",
   "id": "6172cb9a",
   "metadata": {},
   "source": [
    "Se ha ejecutado la celda anterior varias veces. La tendencia es que el accuracy sea de aproximadamente 0.9 en la mayoría de casos, por lo que podemos escoger cualquier valor entre 100 y 122. En algunas ejecuciones hay valores de ```max_samples``` que producen un mayor accuracy, pero eso no siempre es así."
   ]
  },
  {
   "cell_type": "markdown",
   "id": "5a5d3e1f",
   "metadata": {},
   "source": [
    "### Entrenamiento y valoración del modelo con Random Forest"
   ]
  },
  {
   "cell_type": "code",
   "execution_count": 21,
   "id": "5f688901",
   "metadata": {},
   "outputs": [
    {
     "name": "stdout",
     "output_type": "stream",
     "text": [
      "              precision    recall  f1-score   support\n",
      "\n",
      "         1.0       0.00      0.00      0.00         2\n",
      "         2.0       0.95      1.00      0.97        78\n",
      "         3.0       0.00      0.00      0.00         2\n",
      "\n",
      "    accuracy                           0.95        82\n",
      "   macro avg       0.32      0.33      0.33        82\n",
      "weighted avg       0.90      0.95      0.93        82\n",
      "\n",
      "Score: 0.9512195121951219\n"
     ]
    },
    {
     "data": {
      "image/png": "[encoded data removed]",
      "text/plain": [
       "<Figure size 432x288 with 2 Axes>"
      ]
     },
     "metadata": {
      "needs_background": "light"
     },
     "output_type": "display_data"
    }
   ],
   "source": [
    "y = clean_df['RBQ'] \n",
    "X = clean_df.drop('RBQ', axis=1)\n",
    "X_train, X_test, y_train, y_test = train_test_split(X, y, train_size=0.6)\n",
    "\n",
    "# n_estimators = 100. cuanto más filas haya, mas estimadores tiene que haber.\n",
    "# Bootstrap = True. Utilizamos \"trocitos\" del data set para construir cada árbol\n",
    "# max_samples = 100. Generamos aleatoriamente árboles de 100 pacientes cada uno\n",
    "# class_weight='balanced'. Balancemos las clases\n",
    "\n",
    "# Resumen: Generamos 100 árboles de decisión con 50 pacientes cada uno.\n",
    "rfc = RandomForestClassifier(n_estimators=100, bootstrap=True, max_samples=100, class_weight='balanced')\n",
    "                    \n",
    "rfc.fit(X_train, y_train)\n",
    "\n",
    "plot_confusion_matrix(rfc, X_test, y_test)\n",
    "print(classification_report(y_test, rfc.predict(X_test), zero_division=0))\n",
    "print('Score: ' + str(rfc.score(X_test, y_test)))"
   ]
  },
  {
   "cell_type": "markdown",
   "id": "c90c982f",
   "metadata": {},
   "source": [
    "## KNN"
   ]
  },
  {
   "cell_type": "markdown",
   "id": "665bb548",
   "metadata": {},
   "source": [
    "### Búsqueda del mejor valor de K para KNN\n",
    "\n",
    "Buscamos el mejor valor de K, utilizando dos distancias: Manhattan(1) y Euclídea(2)"
   ]
  },
  {
   "cell_type": "code",
   "execution_count": 22,
   "id": "6ecb38b5",
   "metadata": {},
   "outputs": [],
   "source": [
    "def get_best_k_using_distance(distance):\n",
    "    y = clean_df['RBQ'] \n",
    "    X = clean_df.drop('RBQ', axis=1)\n",
    "    X_train, X_test, y_train, y_test = train_test_split(X, y, train_size=0.6)\n",
    "\n",
    "    k_range = range(1, 20)\n",
    "    scores = []\n",
    "\n",
    "    for k in k_range:\n",
    "        pipe_knn = Pipeline([\n",
    "                         ('norm', MinMaxScaler()),\n",
    "                         ('knn', KNeighborsClassifier(n_neighbors=k, p=distance, weights='distance'))    \n",
    "                        ])\n",
    "\n",
    "        pipe_knn.fit(X_train, y_train)\n",
    "\n",
    "        scores.append(pipe_knn.score(X_test, y_test))\n",
    "\n",
    "    plt.figure()\n",
    "    plt.xlabel('k')\n",
    "    plt.ylabel('accuracy')\n",
    "    plt.scatter(k_range, scores)\n",
    "    plt.xticks(k_range)"
   ]
  },
  {
   "cell_type": "markdown",
   "id": "db3d834b",
   "metadata": {},
   "source": [
    "### Selección de K con normalización y distancia Manhattan"
   ]
  },
  {
   "cell_type": "code",
   "execution_count": 23,
   "id": "b9a3d15f",
   "metadata": {},
   "outputs": [
    {
     "data": {
      "image/png": "[encoded data removed]",
      "text/plain": [
       "<Figure size 432x288 with 1 Axes>"
      ]
     },
     "metadata": {
      "needs_background": "light"
     },
     "output_type": "display_data"
    }
   ],
   "source": [
    "get_best_k_using_distance(1)"
   ]
  },
  {
   "cell_type": "markdown",
   "id": "2138ff68",
   "metadata": {},
   "source": [
    "### Selección de K con normalización y distancia Euclídea"
   ]
  },
  {
   "cell_type": "code",
   "execution_count": 24,
   "id": "e5657dc0",
   "metadata": {},
   "outputs": [
    {
     "data": {
      "image/png": "[encoded data removed]",
      "text/plain": [
       "<Figure size 432x288 with 1 Axes>"
      ]
     },
     "metadata": {
      "needs_background": "light"
     },
     "output_type": "display_data"
    }
   ],
   "source": [
    "get_best_k_using_distance(2)"
   ]
  },
  {
   "cell_type": "markdown",
   "id": "40d8a24d",
   "metadata": {},
   "source": [
    "Tras varias ejecuciones a mano de las dos funciones anteriores, se puede observar que el accuracy más estable se encuentra a partir de k=10. Es cierto que en algunas ejecuciones se pueden encontrar accuracy mayores a 0.9 en k < 10. Sin embargo, esos accuracy no son siempre así, y usar pocos vecinos haría que nuestras predicciones no sean correctas, produciendo overfitting. La distancia euclídea parece que ofrece mayor accuracy."
   ]
  },
  {
   "cell_type": "markdown",
   "id": "528cfd54",
   "metadata": {},
   "source": [
    "### Entrenamiento y valoración del modelo con KNN\n",
    "\n",
    "KNN requiere de escalado para funcionar correctamente. Además, estas predicciones están basadas en distancias, por lo que escalar todas las variables a valores entre 0 y 1 puede ser buena idea, ya que las variables de nuestro dataset tienen distintos rangos."
   ]
  },
  {
   "cell_type": "code",
   "execution_count": 25,
   "id": "abdc71cb",
   "metadata": {},
   "outputs": [
    {
     "name": "stdout",
     "output_type": "stream",
     "text": [
      "              precision    recall  f1-score   support\n",
      "\n",
      "         1.0       0.00      0.00      0.00         2\n",
      "         2.0       0.97      1.00      0.98        60\n",
      "\n",
      "    accuracy                           0.97        62\n",
      "   macro avg       0.48      0.50      0.49        62\n",
      "weighted avg       0.94      0.97      0.95        62\n",
      "\n",
      "Score: 0.967741935483871\n"
     ]
    },
    {
     "data": {
      "image/png": "[encoded data removed]",
      "text/plain": [
       "<Figure size 432x288 with 2 Axes>"
      ]
     },
     "metadata": {
      "needs_background": "light"
     },
     "output_type": "display_data"
    }
   ],
   "source": [
    "y = df['RBQ'] \n",
    "X = df.drop('RBQ', axis=1)\n",
    "X_train, X_test, y_train, y_test = train_test_split(X, y, train_size=0.7)\n",
    "\n",
    "# n_neighbors=10. El cluster al que pertenece el nuevo paciente depende de los 10 vecinos más cercanos.\n",
    "# p = 2. Utilizamos la distancia euclídea.\n",
    "pipe_knn = Pipeline([\n",
    "                     ('norm', MinMaxScaler()),\n",
    "                     ('knn', KNeighborsClassifier(n_neighbors=10, p=2))    \n",
    "                    ])\n",
    "\n",
    "pipe_knn.fit(X_train, y_train)\n",
    "\n",
    "plot_confusion_matrix(pipe_knn, X_test, y_test)\n",
    "print(classification_report(y_test, pipe_knn.predict(X_test), zero_division=0))\n",
    "print('Score: ' + str(pipe_knn.score(X_test, y_test)))"
   ]
  },
  {
   "cell_type": "markdown",
   "id": "ed6e578e",
   "metadata": {},
   "source": [
    "## Regresión Logística"
   ]
  },
  {
   "cell_type": "markdown",
   "id": "8d7c3070",
   "metadata": {},
   "source": [
    "### Selección de ```C``` para Regresión Logística"
   ]
  },
  {
   "cell_type": "code",
   "execution_count": 26,
   "id": "635d2397",
   "metadata": {
    "scrolled": true
   },
   "outputs": [
    {
     "data": {
      "image/png": "[encoded data removed]",
      "text/plain": [
       "<Figure size 432x288 with 1 Axes>"
      ]
     },
     "metadata": {
      "needs_background": "light"
     },
     "output_type": "display_data"
    }
   ],
   "source": [
    "def get_best_c():\n",
    "    y = clean_df['RBQ'] \n",
    "    X = clean_df.drop('RBQ', axis=1)\n",
    "    X_train, X_test, y_train, y_test = train_test_split(X, y, train_size=0.6)\n",
    "    \n",
    "    # El rango es en realidad de 0 a 1, pero range() no permite floats. Posteriormente se pasa como parametro c/100.\n",
    "    c_range = range(1, 100, 5)\n",
    "    scores = []\n",
    "\n",
    "    for c in c_range:\n",
    "        pipe_clr = Pipeline([\n",
    "                     ('scl', StandardScaler()),\n",
    "                     ('clr', LogisticRegression(C=c/100, penalty='l2', solver='liblinear', class_weight='balanced'))    \n",
    "                    ])\n",
    "\n",
    "        pipe_clr.fit(X_train, y_train)\n",
    "\n",
    "        scores.append(pipe_clr.score(X_test, y_test))\n",
    "\n",
    "    plt.figure()\n",
    "    plt.xlabel('c')\n",
    "    plt.ylabel('accuracy')\n",
    "    plt.scatter(c_range, scores)\n",
    "    plt.xticks(c_range)\n",
    "\n",
    "get_best_c()"
   ]
  },
  {
   "cell_type": "markdown",
   "id": "11ffa435",
   "metadata": {},
   "source": [
    "Se han realizado varias iteraciones para ver cuál es el mejor valor de ```C```, y se ha observado que se obtiene mayor accuracy con valores ```C > 0.4```"
   ]
  },
  {
   "cell_type": "markdown",
   "id": "e08a5108",
   "metadata": {},
   "source": [
    "### Entrenamiento y valoración del modelo con Regresión Logística"
   ]
  },
  {
   "cell_type": "code",
   "execution_count": 27,
   "id": "66c7169c",
   "metadata": {
    "scrolled": false
   },
   "outputs": [
    {
     "name": "stdout",
     "output_type": "stream",
     "text": [
      "              precision    recall  f1-score   support\n",
      "\n",
      "         1.0       0.50      1.00      0.67         5\n",
      "         2.0       1.00      0.91      0.95        57\n",
      "\n",
      "    accuracy                           0.92        62\n",
      "   macro avg       0.75      0.96      0.81        62\n",
      "weighted avg       0.96      0.92      0.93        62\n",
      "\n",
      "Score: 0.9193548387096774\n"
     ]
    },
    {
     "data": {
      "image/png": "[encoded data removed]",
      "text/plain": [
       "<Figure size 432x288 with 2 Axes>"
      ]
     },
     "metadata": {
      "needs_background": "light"
     },
     "output_type": "display_data"
    }
   ],
   "source": [
    "y = df['RBQ'] \n",
    "X = df.drop('RBQ', axis=1)\n",
    "X_train, X_test, y_train, y_test = train_test_split(X, y, train_size=0.7)\n",
    "\n",
    "# solver ='liblinear'. Es el recomendado para datasets pequeños.\n",
    "# class_weight='balanced'. Balancemos las clases\n",
    "pipe_clr = Pipeline([\n",
    "                     ('scl', StandardScaler()),\n",
    "                     ('clr', LogisticRegression(C=0.5, penalty='l2', solver='liblinear', class_weight='balanced'))    \n",
    "                    ])\n",
    "\n",
    "pipe_clr.fit(X_train, y_train)\n",
    "\n",
    "plot_confusion_matrix(pipe_clr, X_test, y_test)\n",
    "print(classification_report(y_test, pipe_clr.predict(X_test), zero_division=0))\n",
    "print('Score: ' + str(pipe_clr.score(X_test, y_test)))"
   ]
  },
  {
   "cell_type": "markdown",
   "id": "daa4210f",
   "metadata": {},
   "source": [
    "# Bibliografía\n",
    "- Estimadores: https://scikit-learn.org/stable/tutorial/machine_learning_map/index.html\n",
    "\n",
    "- Random Forest: https://scikit-learn.org/stable/modules/generated/sklearn.ensemble.RandomForestClassifier.html\n",
    "\n",
    "- KNN: https://scikit-learn.org/stable/modules/generated/sklearn.neighbors.KNeighborsClassifier.html\n",
    "\n",
    "- Regresión Logística: https://scikit-learn.org/stable/modules/generated/sklearn.linear_model.LogisticRegression.html"
   ]
  }
 ],
 "metadata": {
  "kernelspec": {
   "display_name": "Python 3 (ipykernel)",
   "language": "python",
   "name": "python3"
  },
  "language_info": {
   "codemirror_mode": {
    "name": "ipython",
    "version": 3
   },
   "file_extension": ".py",
   "mimetype": "text/x-python",
   "name": "python",
   "nbconvert_exporter": "python",
   "pygments_lexer": "ipython3",
   "version": "3.9.7"
  }
 },
 "nbformat": 4,
 "nbformat_minor": 5
}
